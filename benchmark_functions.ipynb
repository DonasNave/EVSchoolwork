{
 "cells": [
  {
   "cell_type": "markdown",
   "metadata": {},
   "source": [
    "# Analysis of the benchmark functions"
   ]
  },
  {
   "cell_type": "code",
   "execution_count": null,
   "metadata": {},
   "outputs": [],
   "source": [
    "from IPython.display import Markdown, display\n",
    "import source.visualization as vis\n",
    "import importlib\n",
    "import inspect\n",
    "import sys\n",
    "import os\n",
    "\n",
    "module_path = os.path.abspath(os.path.join('./source'))\n",
    "sys.path.append(module_path)\n",
    "\n",
    "benchmarks = importlib.import_module('benchmark_functions')\n",
    "functions = [obj for name, obj in inspect.getmembers(benchmarks) if inspect.isfunction(obj)]\n",
    "i = 1\n",
    "\n",
    "for func in functions:\n",
    "    vis.visualize_function(func)\n",
    "    func_source = func._source\n",
    "    print(\"\\nFunction no: \" + str(i) + \"\\t\\t\\t\" + \"Source: \" + func_source)\n",
    "    latex_formula = func._formula\n",
    "    print(\"\\nFormula:\")\n",
    "    display(Markdown(latex_formula))\n",
    "    print(\"\\n\\n\\n\")\n",
    "    i += 1"
   ]
  },
  {
   "cell_type": "code",
   "execution_count": null,
   "metadata": {},
   "outputs": [],
   "source": []
  }
 ],
 "metadata": {
  "kernelspec": {
   "display_name": "Python 3",
   "language": "python",
   "name": "python3"
  },
  "language_info": {
   "codemirror_mode": {
    "name": "ipython",
    "version": 3
   },
   "file_extension": ".py",
   "mimetype": "text/x-python",
   "name": "python",
   "nbconvert_exporter": "python",
   "pygments_lexer": "ipython3",
   "version": "3.11.0"
  }
 },
 "nbformat": 4,
 "nbformat_minor": 2
}
