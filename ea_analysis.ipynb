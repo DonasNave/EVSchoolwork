{
 "cells": [
  {
   "cell_type": "markdown",
   "metadata": {},
   "source": [
    "# Evolutionary algorithms analysis\n",
    "\n"
   ]
  },
  {
   "cell_type": "code",
   "execution_count": 1,
   "metadata": {},
   "outputs": [],
   "source": [
    "# Evo algorithms setup\n",
    "\n",
    "# Imports\n",
    "import source.visualization as vis\n",
    "import source.evolutionary_algorithms as ea\n",
    "import source.benchmark_functions as bf\n",
    "import numpy as np\n",
    "import source.helpers as hp\n",
    "import importlib\n",
    "import inspect\n",
    "import sys\n",
    "import os\n",
    "\n",
    "# Load benchmark functions\n",
    "module_path = os.path.abspath(os.path.join('./source'))\n",
    "sys.path.append(module_path)\n",
    "benchmarks = importlib.import_module('benchmark_functions')\n",
    "functions = [obj for name, obj in inspect.getmembers(benchmarks) if inspect.isfunction(obj)]\n",
    "\n",
    "# Hyperparameters\n",
    "DIMENSIONS = [2] #, 10, 30]\n",
    "\n",
    "lower_bound = -100.0\n",
    "upper_bound = 100.0\n",
    "\n",
    "POPULATION_SIZES = [10, 20, 50]\n",
    "FUNCTION_EVALUATIONS = 2000\n",
    "RESULTS = dict()\n",
    "REPEATS = 30"
   ]
  },
  {
   "cell_type": "markdown",
   "metadata": {},
   "source": [
    "## Running ea\n",
    "\n",
    "Run ea for benchmark functions and write results to global variables.\n"
   ]
  },
  {
   "cell_type": "code",
   "execution_count": 2,
   "metadata": {},
   "outputs": [
    {
     "name": "stdout",
     "output_type": "stream",
     "text": [
      "Calculating dimension 2 - #####|#####|#####|#####|#####|\n"
     ]
    }
   ],
   "source": [
    "for i, dim in enumerate(DIMENSIONS):\n",
    "    BOUNDS = np.array([[lower_bound, upper_bound]] * DIMENSIONS[i])\n",
    "    pop_size = POPULATION_SIZES[i]\n",
    "    evaluations = dim * FUNCTION_EVALUATIONS\n",
    "    migrations = int(np.floor(0.2 * pop_size))\n",
    "    dimension_results = []\n",
    "    print(f\"Calculating dimension {dim} - \", end=\"\")\n",
    "    counter = 0\n",
    "\n",
    "    for function in functions:\n",
    "        row = [0, 0, 0, 0, 0]\n",
    "        counter += 1\n",
    "\n",
    "        for _ in range(REPEATS):\n",
    "            row[0] += ea.differential_evolution(function, BOUNDS, pop_size, strategy=\"rand/1/bin\")[1]\n",
    "            row[1] += ea.differential_evolution(function, BOUNDS, pop_size, strategy=\"best/1/bin\")[1]\n",
    "            row[2] += ea.particle_swarm_optimization(function, BOUNDS, pop_size, evaluations)[1]\n",
    "            row[3] += ea.soma_ato(function, BOUNDS, pop_size, migrations)[1]\n",
    "            row[4] += ea.soma_ata(function, BOUNDS, pop_size, migrations)[1]\n",
    "\n",
    "        print(\"#\", end=\"\")\n",
    "        if counter % 5 == 0:\n",
    "            print(\"|\", end=\"\")\n",
    "\n",
    "        \n",
    "        row = [x / REPEATS for x in row]\n",
    "        dimension_results.append(row)\n",
    "    \n",
    "    RESULTS[dim] = dimension_results\n",
    "    print(\"\")"
   ]
  },
  {
   "cell_type": "markdown",
   "metadata": {},
   "source": [
    "## Analyze results"
   ]
  },
  {
   "cell_type": "code",
   "execution_count": 5,
   "metadata": {},
   "outputs": [
    {
     "name": "stdout",
     "output_type": "stream",
     "text": [
      "\n",
      "Results for 2 dimensions:\n",
      "\n",
      "---------------------------------------------------------------------------------------------------------------------------\n",
      "| Function            |     DE Rand 1     |     DE Best 1     |        PSO        |  SOMA all-to-one  |  SOMA all-to-all  |\n",
      "---------------------------------------------------------------------------------------------------------------------------\n",
      "| Ackley 1st          |         1         |         2         |         3         |         5         |         4         |\n",
      "| Ackley Altered      |         2         |         3         |         1         |         4         |         5         |\n",
      "| Alpine 1st function |         2         |         3         |         1         |         5         |         4         |\n",
      "| Alpine 2nd          |         1         |         3         |         2         |         5         |         4         |\n",
      "| Csendes             |         2         |         3         |         1         |         5         |         4         |\n",
      "| LLM - Customized 1  |         1         |         2         |         3         |         5         |         4         |\n",
      "| LLM - Customized 2  |         2         |         3         |         1         |         5         |         4         |\n",
      "| De Jong N1          |         3         |         2         |         1         |         5         |         4         |\n",
      "| Griewank            |         1         |         2         |         3         |         5         |         4         |\n",
      "| Levy                |         2         |         3         |         1         |         5         |         4         |\n",
      "| Michalewicz         |         2         |         3         |         1         |         5         |         4         |\n",
      "| Michalewicz Altered |         1         |         3         |         2         |         4         |         5         |\n",
      "| Twisted Valleys     |         3         |         2         |         1         |         5         |         4         |\n",
      "| Quartic             |         2         |         3         |         1         |         5         |         4         |\n",
      "| Rastrigin           |         1         |         3         |         2         |         5         |         4         |\n",
      "| Schwefel            |         1         |         2         |         4         |         5         |         3         |\n",
      "| Styblinski-Tang     |         1         |         3         |         2         |         4         |         5         |\n",
      "| Svanda 1st          |         1         |         3         |         2         |         5         |         4         |\n",
      "| Svanda 2nd          |         1         |         3         |         2         |         5         |         4         |\n",
      "| Svanda 3rd          |         1         |         3         |         2         |         4         |         5         |\n",
      "| Svanda 4th          |         2         |         3         |         1         |         5         |         4         |\n",
      "| Svanda 5th          |         1         |         3         |         2         |         5         |         4         |\n",
      "| Svanda 6th          |         3         |         2         |         1         |         4         |         5         |\n",
      "| LLM - Wavy Peaks    |         2         |         3         |         1         |         4         |         5         |\n",
      "| Zakharov            |         2         |         3         |         1         |         4         |         5         |\n",
      "---------------------------------------------------------------------------------------------------------------------------\n",
      "| Average Rank        |       1.64        |       2.72        |       1.68        |       4.72        |       4.24        |\n",
      "---------------------------------------------------------------------------------------------------------------------------\n",
      "Chi-square: 1.7899901864572798 | p-value: 0.9999999997581024\n",
      "\n",
      "\n",
      "\n"
     ]
    }
   ],
   "source": [
    "for dim in RESULTS:\n",
    "    print(f\"\\nResults for {dim} dimensions:\\n\")\n",
    "    ranking_table = []\n",
    "    hp.table_header()\n",
    "    for i, dim_results in enumerate(RESULTS[dim]):\n",
    "        res = hp.rank_array(dim_results)\n",
    "        hp.table_row(functions[i]._custom_name, res)\n",
    "        ranking_table.append(res)\n",
    "    hp.table_footer(ranking_table)\n",
    "    chi, p = hp.friedman_test(ranking_table)\n",
    "    print(f\"Chi-square: {chi} | p-value: {p}\")\n",
    "    print(\"\\n\\n\")"
   ]
  }
 ],
 "metadata": {
  "kernelspec": {
   "display_name": "Python 3",
   "language": "python",
   "name": "python3"
  },
  "language_info": {
   "codemirror_mode": {
    "name": "ipython",
    "version": 3
   },
   "file_extension": ".py",
   "mimetype": "text/x-python",
   "name": "python",
   "nbconvert_exporter": "python",
   "pygments_lexer": "ipython3",
   "version": "3.11.0"
  }
 },
 "nbformat": 4,
 "nbformat_minor": 2
}
