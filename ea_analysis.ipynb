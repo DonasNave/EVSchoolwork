{
 "cells": [
  {
   "cell_type": "markdown",
   "metadata": {},
   "source": [
    "# Evolutionary algorithms analysis\n",
    "\n"
   ]
  },
  {
   "cell_type": "code",
   "execution_count": 1,
   "metadata": {},
   "outputs": [],
   "source": [
    "# Evo algorithms setup\n",
    "\n",
    "# Imports\n",
    "import source.visualization as vis\n",
    "import source.evolutionary_algorithms as ea\n",
    "import source.benchmark_functions as bf\n",
    "import numpy as np\n",
    "import source.helpers as hp\n",
    "import importlib\n",
    "import inspect\n",
    "import sys\n",
    "import os\n",
    "\n",
    "# Load benchmark functions\n",
    "module_path = os.path.abspath(os.path.join('./source'))\n",
    "sys.path.append(module_path)\n",
    "benchmarks = importlib.import_module('benchmark_functions')\n",
    "functions = [obj for name, obj in inspect.getmembers(benchmarks) if inspect.isfunction(obj)]\n",
    "\n",
    "# Hyperparameters\n",
    "DIMENSIONS = [2] #, 10, 30]\n",
    "\n",
    "lower_bound = -100.0\n",
    "upper_bound = 100.0\n",
    "\n",
    "POPULATION_SIZES = [10, 20, 50]\n",
    "FUNCTION_EVALUATIONS = 2000\n",
    "RESULTS = dict()\n",
    "REPEATS = 30"
   ]
  },
  {
   "cell_type": "markdown",
   "metadata": {},
   "source": [
    "## Running ea\n",
    "\n",
    "Run ea for benchmark functions and write results to global variables.\n"
   ]
  },
  {
   "cell_type": "code",
   "execution_count": 2,
   "metadata": {},
   "outputs": [
    {
     "name": "stdout",
     "output_type": "stream",
     "text": [
      "Loaded results from file\n"
     ]
    }
   ],
   "source": [
    "USE_PERSISTENT_DATA = True\n",
    "FILENAME = \"results/partial_run.json\"\n",
    "\n",
    "if USE_PERSISTENT_DATA:\n",
    "    RESULTS = hp.load_results(FILENAME)\n",
    "    print(\"Loaded results from file\")\n",
    "else:\n",
    "    for i, dim in enumerate(DIMENSIONS):\n",
    "        BOUNDS = np.array([[lower_bound, upper_bound]] * DIMENSIONS[i])\n",
    "        pop_size = POPULATION_SIZES[i]\n",
    "        evaluations = dim * FUNCTION_EVALUATIONS\n",
    "        migrations = int(np.floor(0.2 * pop_size))\n",
    "        dimension_results = []\n",
    "        print(f\"Calculating dimension {dim} - \", end=\"\")\n",
    "        counter = 0\n",
    "\n",
    "        for function in functions:\n",
    "            runs = []\n",
    "            counter += 1\n",
    "            \n",
    "            for _ in range(REPEATS):\n",
    "                row = [0, 0, 0, 0, 0]\n",
    "                row[0] = ea.differential_evolution(function, BOUNDS, pop_size, max_evaluations=evaluations, F=0.8, strategy=\"rand/1/bin\")[1]\n",
    "                row[1] = ea.differential_evolution(function, BOUNDS, pop_size, max_evaluations=evaluations, F=0.5, strategy=\"best/1/bin\")[1]\n",
    "                row[2] = ea.particle_swarm_optimization(function, BOUNDS, pop_size, evaluations)[1]\n",
    "                row[3] = ea.soma_ato(function, BOUNDS, pop_size, migrations)[1]\n",
    "                row[4] = ea.soma_ata(function, BOUNDS, pop_size, migrations)[1]\n",
    "                runs.append(row)\n",
    "\n",
    "            print(\"#\", end=\"\")\n",
    "            if counter % 5 == 0:\n",
    "                print(\"|\", end=\"\")\n",
    "\n",
    "            dimension_results.append(runs)\n",
    "        \n",
    "        RESULTS[dim] = dimension_results\n",
    "        print(\"\")\n",
    "        \n",
    "    hp.save_results(RESULTS, FILENAME)\n"
   ]
  },
  {
   "cell_type": "markdown",
   "metadata": {},
   "source": [
    "## Analyze results"
   ]
  },
  {
   "cell_type": "code",
   "execution_count": 3,
   "metadata": {},
   "outputs": [
    {
     "name": "stdout",
     "output_type": "stream",
     "text": [
      "\n",
      "Results for 2 dimensions:\n",
      "\n",
      "----------------------------------------------------------------------------------------------------------------------------------------\n",
      "| Function/Rank Avg.  |     DE Rand 1     |     DE Best 1     |        PSO        |  SOMA all-to-one  |  SOMA all-to-all  | Avg. Diff. |\n",
      "----------------------------------------------------------------------------------------------------------------------------------------\n",
      "| Ackley 1st          |       2.47        |       2.80        |       3.10        |       3.93        |       3.70        |    1.21    |\n",
      "| Ackley Altered      |       2.60        |       4.33        |       1.17        |       3.27        |       3.63        |    2.36    |\n",
      "| Alpine 1st function |       1.30        |       2.87        |       2.10        |       4.37        |       4.40        |    0.62    |\n",
      "| Alpine 2nd          |       1.63        |       3.57        |       1.80        |       4.23        |       3.80        |    0.99    |\n",
      "| Csendes             |       1.33        |       2.10        |       2.57        |       4.47        |       4.53        |    1.00    |\n",
      "| LLM - Customized 1  |       1.40        |       2.60        |       2.37        |       4.57        |       4.20        |    0.55    |\n",
      "| LLM - Customized 2  |       3.13        |       3.30        |       2.43        |       4.33        |       3.87        |    1.42    |\n",
      "| De Jong N1          |       1.33        |       2.07        |       2.60        |       4.70        |       4.30        |    1.03    |\n",
      "| Griewank            |       1.60        |       2.60        |       2.17        |       4.50        |       4.23        |    0.37    |\n",
      "| Levy                |       2.43        |       2.97        |       2.60        |       4.63        |       4.30        |    0.77    |\n",
      "| Michalewicz         |       2.30        |       2.63        |       1.53        |       4.33        |       4.20        |    0.87    |\n",
      "| Michalewicz Altered |       1.47        |       2.90        |       1.87        |       4.43        |       4.33        |    0.59    |\n",
      "| Twisted Valleys     |       1.37        |       2.70        |       2.17        |       4.40        |       4.60        |    0.67    |\n",
      "| Quartic             |       1.33        |       2.10        |       2.57        |       4.63        |       4.37        |    0.99    |\n",
      "| Rastrigin           |       1.93        |       2.80        |       2.07        |       4.57        |       4.43        |    0.41    |\n",
      "| Schwefel            |       3.00        |       2.53        |       3.07        |       3.57        |       3.37        |    1.81    |\n",
      "| Styblinski-Tang     |       2.30        |       2.87        |       2.57        |       4.60        |       4.30        |    0.62    |\n",
      "| Svanda 1st          |       1.73        |       3.03        |       2.30        |       4.13        |       4.00        |    0.37    |\n",
      "| Svanda 2nd          |       1.27        |       2.80        |       2.30        |       4.37        |       4.27        |    0.59    |\n",
      "| Svanda 3rd          |       1.43        |       2.90        |       2.93        |       4.30        |       3.70        |    0.92    |\n",
      "| Svanda 4th          |       1.93        |       3.13        |       1.90        |       4.60        |       4.27        |    0.57    |\n",
      "| Svanda 5th          |       1.40        |       2.90        |       2.20        |       4.33        |       4.20        |    0.46    |\n",
      "| Svanda 6th          |       1.67        |       2.50        |       2.07        |       4.30        |       4.70        |    0.67    |\n",
      "| LLM - Wavy Peaks    |       2.50        |       2.63        |       1.50        |       4.47        |       4.30        |    1.03    |\n",
      "| Zakharov            |       1.33        |       2.40        |       2.60        |       4.57        |       4.10        |    0.77    |\n",
      "----------------------------------------------------------------------------------------------------------------------------------------\n",
      "| Average             |       1.85        |       2.80        |       2.26        |       4.34        |       4.16        |    0.87    |\n",
      "----------------------------------------------------------------------------------------------------------------------------------------\n",
      "Chi-square: 13.527947429454983 | p-value: 0.9566038513132873\n",
      "\n",
      "\n",
      "\n"
     ]
    }
   ],
   "source": [
    "for dim in RESULTS:\n",
    "    print(f\"\\nResults for {dim} dimensions:\\n\")\n",
    "    ranking_table = []\n",
    "    hp.table_header()\n",
    "    result_dict = dict()\n",
    "    for i, fun in enumerate(RESULTS[dim]):\n",
    "        res = np.zeros(5)\n",
    "        for run in fun:\n",
    "            res += hp.rank_array(run)\n",
    "        res /= REPEATS \n",
    "        result_dict[functions[i]._custom_name] = res\n",
    "        ranking_table.append(res)\n",
    "\n",
    "    average_ranks = np.mean(ranking_table, axis=0)\n",
    "    avg_distance = 0\n",
    "    \n",
    "    for pair in result_dict:\n",
    "        result_rank = result_dict[pair]\n",
    "        distance = hp.euclidean_distance(result_rank, average_ranks)\n",
    "        avg_distance += distance\n",
    "        hp.table_row(pair, result_rank, distance)\n",
    "\n",
    "    avg_distance /= len(result_dict)\n",
    "    \n",
    "    hp.table_footer(average_ranks, avg_distance)\n",
    "    chi, p = hp.friedman_test(ranking_table)\n",
    "    print(f\"Chi-square: {chi} | p-value: {p}\")\n",
    "\n",
    "    print(\"\\n\\n\")"
   ]
  }
 ],
 "metadata": {
  "kernelspec": {
   "display_name": "Python 3",
   "language": "python",
   "name": "python3"
  },
  "language_info": {
   "codemirror_mode": {
    "name": "ipython",
    "version": 3
   },
   "file_extension": ".py",
   "mimetype": "text/x-python",
   "name": "python",
   "nbconvert_exporter": "python",
   "pygments_lexer": "ipython3",
   "version": "3.11.0"
  }
 },
 "nbformat": 4,
 "nbformat_minor": 2
}
