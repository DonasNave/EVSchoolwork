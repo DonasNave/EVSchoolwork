{
 "cells": [
  {
   "cell_type": "markdown",
   "metadata": {},
   "source": [
    "# Evolutionary algorithms analysis\n",
    "\n",
    "Complete run of the evolutionary algorithms analysis. This notebook is used to run different evolutionary algorithms and test them on benchmark functions from benchamrk_function.py file. The results are saved in the results folder. \n",
    "\n",
    "Analysis is done via average ranks, with specific notes on outliers."
   ]
  },
  {
   "cell_type": "code",
   "execution_count": 4,
   "metadata": {},
   "outputs": [],
   "source": [
    "# Evo algorithms setup\n",
    "\n",
    "# Imports\n",
    "import time\n",
    "import source.evolutionary_algorithms as ea\n",
    "import numpy as np\n",
    "import source.helpers as hp\n",
    "import importlib\n",
    "import inspect\n",
    "import sys\n",
    "import os\n",
    "\n",
    "# Load benchmark functions\n",
    "module_path = os.path.abspath(os.path.join('./source'))\n",
    "sys.path.append(module_path)\n",
    "benchmarks = importlib.import_module('benchmark_functions')\n",
    "functions = [obj for _, obj in inspect.getmembers(benchmarks) if inspect.isfunction(obj)]\n",
    "\n",
    "# Hyperparameters\n",
    "DIMENSIONS = [2 ] #, 10, 30]\n",
    "\n",
    "lower_bound = -100.0\n",
    "upper_bound = 100.0\n",
    "\n",
    "POPULATION_SIZES = [10, 20, 50]\n",
    "FUNCTION_EVALUATIONS = 2000\n",
    "RESULTS = dict()\n",
    "REPEATS = 30"
   ]
  },
  {
   "cell_type": "markdown",
   "metadata": {},
   "source": [
    "## Running ea\n",
    "\n",
    "Run ea for benchmark functions and write results to global variables.\n"
   ]
  },
  {
   "cell_type": "code",
   "execution_count": 5,
   "metadata": {},
   "outputs": [
    {
     "name": "stdout",
     "output_type": "stream",
     "text": [
      "Loaded results from file\n"
     ]
    }
   ],
   "source": [
    "USE_PERSISTENT_DATA = True\n",
    "FILENAME = f\"results/partial_run_1702765089.636717.json\" # Rename this in case of \n",
    "\n",
    "if USE_PERSISTENT_DATA:\n",
    "    RESULTS = hp.load_results(FILENAME)\n",
    "    print(\"Loaded results from file\")\n",
    "else:\n",
    "    for i, dim in enumerate(DIMENSIONS):\n",
    "        BOUNDS = np.array([[lower_bound, upper_bound]] * DIMENSIONS[i])\n",
    "        pop_size = POPULATION_SIZES[i]\n",
    "        evaluations = dim * FUNCTION_EVALUATIONS\n",
    "        dimension_results = []\n",
    "        print(f\"Calculating dimension {dim} - \", end=\"\")\n",
    "        counter = 0\n",
    "\n",
    "        for function in functions:\n",
    "            runs = []\n",
    "            counter += 1\n",
    "            \n",
    "            for _ in range(REPEATS):\n",
    "                row = [0, 0, 0, 0, 0]\n",
    "                row[0] = ea.differential_evolution(function, BOUNDS, pop_size, max_evaluations=evaluations, F=0.8, strategy=\"rand/1/bin\")[1]\n",
    "                row[1] = ea.differential_evolution(function, BOUNDS, pop_size, max_evaluations=evaluations, F=0.5, strategy=\"best/1/bin\")[1]\n",
    "                row[2] = ea.particle_swarm_optimization(function, BOUNDS, pop_size, max_evaluations=evaluations)[1]\n",
    "                row[3] = ea.soma_ato(function, BOUNDS, pop_size, max_evaluations=evaluations)[1]\n",
    "                row[4] = ea.soma_ata(function, BOUNDS, pop_size, max_evaluations=evaluations)[1]\n",
    "                runs.append(row)\n",
    "\n",
    "            print(\"#\", end=\"\")\n",
    "            if counter % 5 == 0:\n",
    "                print(\"|\", end=\"\")\n",
    "\n",
    "            dimension_results.append(runs)\n",
    "        \n",
    "        RESULTS[dim] = dimension_results\n",
    "        print(\"\")\n",
    "        \n",
    "    hp.save_results(RESULTS, f\"results/partial_run_{time.time()}.json\")\n"
   ]
  },
  {
   "cell_type": "markdown",
   "metadata": {},
   "source": [
    "## Analyze results\n",
    "\n",
    "Legend/note:\n",
    "- **Rank**: evolutionary algorithm's average rank for benchmark function across number of runs (REPEATS)\n",
    "- **Rank Avg.**: distance between Rank and Total Avg. Rank\n",
    "- **Total Avg. Rank**: average rank of evolutionary algorithm across all benchmark functions\n",
    "- **Chi square**: used to test if Rank Avg. is significantly different from Average\n",
    "  - if p-value is less than 0.05 then Rank Avg. is significantly different from Average"
   ]
  },
  {
   "cell_type": "code",
   "execution_count": 6,
   "metadata": {},
   "outputs": [
    {
     "name": "stdout",
     "output_type": "stream",
     "text": [
      "\n",
      "Results for 2 dimensions:\n",
      "\n",
      "----------------------------------------------------------------------------------------------------------------------------------------\n",
      "|    Evo. Algorithm → |     DE Rand 1     |     DE Best 1     |        PSO        |  SOMA all-to-one  |  SOMA all-to-all  | Rank Avg.  |\n",
      "| Benchmark ↓         |      (Rank)       |      (Rank)       |      (Rank)       |      (Rank)       |      (Rank)       |   (Diff)   |\n",
      "----------------------------------------------------------------------------------------------------------------------------------------\n",
      "| Ackley 1st          |       2.77        |       3.33        |       2.80        |       3.10        |       4.07        |    1.07    |\n",
      "| Ackley Altered      |       3.07        |       4.03        |       1.37        |       2.30        |       4.23        |    1.89    |\n",
      "| Alpine 1st function |       1.53        |       3.10        |       2.00        |       3.43        |       4.97        |    0.81    |\n",
      "| Alpine 2nd          |       2.17        |       3.27        |       2.63        |       2.40        |       4.57        |    0.74    |\n",
      "| Csendes             |       1.27        |       2.53        |       2.47        |       3.73        |       5.00        |    1.26    |\n",
      "| LLM - Customized 1  |       1.50        |       3.17        |       2.90        |       2.67        |       4.93        |    0.90    |\n",
      "| LLM - Customized 2  |       3.50        |       3.90        |       2.30        |       1.90        |       4.47        |    1.99    |\n",
      "| De Jong N1          |       1.40        |       2.33        |       2.50        |       3.80        |       4.97        |    1.33    |\n",
      "| Griewank            |       2.20        |       3.10        |       2.33        |       2.87        |       4.80        |    0.22    |\n",
      "| Levy                |       2.40        |       3.20        |       2.50        |       3.80        |       4.97        |    0.84    |\n",
      "| Michalewicz         |       2.63        |       3.13        |       1.67        |       2.83        |       4.73        |    0.91    |\n",
      "| Michalewicz Altered |       1.77        |       3.33        |       2.67        |       2.57        |       4.67        |    0.69    |\n",
      "| Twisted Valleys     |       1.50        |       2.87        |       2.30        |       3.73        |       5.00        |    0.98    |\n",
      "| Quartic             |       1.37        |       2.07        |       2.67        |       3.90        |       5.00        |    1.60    |\n",
      "| Rastrigin           |       1.97        |       3.43        |       2.43        |       2.97        |       5.00        |    0.42    |\n",
      "| Schwefel            |       3.00        |       3.30        |       2.53        |       2.93        |       4.27        |    1.06    |\n",
      "| Styblinski-Tang     |       2.43        |       3.13        |       2.67        |       3.60        |       4.97        |    0.74    |\n",
      "| Svanda 1st          |       2.53        |       3.20        |       2.60        |       2.33        |       4.53        |    0.90    |\n",
      "| Svanda 2nd          |       1.37        |       2.87        |       2.40        |       3.47        |       4.90        |    0.90    |\n",
      "| Svanda 3rd          |       1.47        |       3.67        |       2.90        |       2.70        |       4.53        |    1.06    |\n",
      "| Svanda 4th          |       2.03        |       3.70        |       1.63        |       3.30        |       4.97        |    0.98    |\n",
      "| Svanda 5th          |       1.77        |       3.67        |       2.83        |       2.10        |       4.63        |    1.23    |\n",
      "| Svanda 6th          |       2.33        |       2.67        |       2.30        |       3.40        |       5.00        |    0.68    |\n",
      "| LLM - Wavy Peaks    |       3.17        |       3.10        |       1.37        |       2.63        |       4.93        |    1.53    |\n",
      "| Zakharov            |       1.37        |       2.37        |       2.53        |       3.80        |       4.93        |    1.32    |\n",
      "----------------------------------------------------------------------------------------------------------------------------------------\n",
      "| Total Avg. Rank     |       2.10        |       3.14        |       2.37        |       3.05        |       4.76        |    1.04    |\n",
      "----------------------------------------------------------------------------------------------------------------------------------------\n",
      "\n",
      "Friedman test:\n",
      "Chi-square:        8.10462\n",
      "P-value:           0.998979\n",
      "\n",
      "\n",
      "\n"
     ]
    }
   ],
   "source": [
    "for dim in RESULTS:\n",
    "    print(f\"\\nResults for {dim} dimensions:\\n\")\n",
    "    ranking_table = []\n",
    "    hp.table_header()\n",
    "    result_dict = dict()\n",
    "    for i, fun in enumerate(RESULTS[dim]):\n",
    "        res = np.zeros(5)\n",
    "        for run in fun:\n",
    "            res += hp.rank_array(run)\n",
    "        res /= REPEATS \n",
    "        result_dict[functions[i]._custom_name] = res\n",
    "        ranking_table.append(res)\n",
    "\n",
    "    average_ranks = np.mean(ranking_table, axis=0)\n",
    "    avg_distance = 0\n",
    "    \n",
    "    for pair in result_dict:\n",
    "        result_rank = result_dict[pair]\n",
    "        distance = hp.euclidean_distance(result_rank, average_ranks)\n",
    "        avg_distance += distance\n",
    "        hp.table_row(pair, result_rank, distance)\n",
    "\n",
    "    avg_distance /= len(result_dict)\n",
    "    \n",
    "    hp.table_footer(average_ranks, avg_distance)\n",
    "    chi, p = hp.friedman_test(ranking_table)\n",
    "    print(\"\\nFriedman test:\")\n",
    "    print(\"Chi-square: {:>14.6}\\nP-value: {:>18.6}\".format(chi, p))\n",
    "\n",
    "    print(\"\\n\\n\")"
   ]
  },
  {
   "cell_type": "markdown",
   "metadata": {},
   "source": [
    "### Explanation of outliers \n",
    "*(based on data from results/full_run.json)*\n",
    "\n",
    "#### Dim 2\n",
    "\n",
    "#### Dim 10\n",
    "\n",
    "#### Dim 30"
   ]
  }
 ],
 "metadata": {
  "kernelspec": {
   "display_name": "Python 3",
   "language": "python",
   "name": "python3"
  },
  "language_info": {
   "codemirror_mode": {
    "name": "ipython",
    "version": 3
   },
   "file_extension": ".py",
   "mimetype": "text/x-python",
   "name": "python",
   "nbconvert_exporter": "python",
   "pygments_lexer": "ipython3",
   "version": "3.11.0"
  }
 },
 "nbformat": 4,
 "nbformat_minor": 2
}
