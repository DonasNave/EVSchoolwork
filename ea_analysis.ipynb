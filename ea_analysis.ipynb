{
 "cells": [
  {
   "cell_type": "markdown",
   "metadata": {},
   "source": [
    "# Evolutionary algorithms analysis\n",
    "\n"
   ]
  },
  {
   "cell_type": "code",
   "execution_count": null,
   "metadata": {},
   "outputs": [],
   "source": [
    "# Evo algorithms setup\n",
    "\n",
    "# Imports\n",
    "import source.visualization as vis\n",
    "import source.evolutionary_algorithms as ea\n",
    "import source.helpers as hp\n",
    "import importlib\n",
    "import inspect\n",
    "import sys\n",
    "import os\n",
    "\n",
    "# Load benchmark functions\n",
    "module_path = os.path.abspath(os.path.join('./source'))\n",
    "sys.path.append(module_path)\n",
    "benchmarks = importlib.import_module('benchmark_functions')\n",
    "functions = [obj for name, obj in inspect.getmembers(benchmarks) if inspect.isfunction(obj)]\n",
    "\n",
    "# Hyperparameters\n",
    "BOUNDS = (-100, 100)\n",
    "DIMENSIONS = [2, 10, 30]\n",
    "POPULATION_SIZES = [10, 20, 50]\n",
    "FUNCTION_EVALUATIONS = 2000\n",
    "RESULTS = dict()\n",
    "REPEATS = 30"
   ]
  },
  {
   "cell_type": "markdown",
   "metadata": {},
   "source": [
    "## Running ea\n",
    "\n",
    "Run ea for benchmark functions and write results to global variables.\n"
   ]
  },
  {
   "cell_type": "code",
   "execution_count": null,
   "metadata": {},
   "outputs": [],
   "source": [
    "for i, dim in enumerate(DIMENSIONS):\n",
    "    pop_size = POPULATION_SIZES[i]\n",
    "    evaluations = dim * FUNCTION_EVALUATIONS\n",
    "    dimension_results = []\n",
    "\n",
    "    for function in functions:\n",
    "        row = [0, 0, 0, 0, 0]\n",
    "\n",
    "        for _ in range(REPEATS):\n",
    "            # run DE Rand 1\n",
    "            row[0] += ea.differential_evolution(function, BOUNDS, pop_size, strategy=\"rand/1/bin\")\n",
    "            # run DE Best 1\n",
    "            row[1] += ea.differential_evolution(function, BOUNDS, pop_size, strategy=\"best/1/bin\")\n",
    "            # run PSO\n",
    "            row[2] += ea.particle_swarm_optimization(function, pop_size, dim, evaluations)\n",
    "            # run SOMA-all-to-one\n",
    "            row[3] += ea.soma_all_to_one(function, BOUNDS, pop_size, evaluations)\n",
    "            # run SOMA-all-to-all\n",
    "            row[4] += ea.soma_all_to_all(function, BOUNDS, pop_size, evaluations)\n",
    "\n",
    "        row = [x / REPEATS for x in row]\n",
    "        dimension_results.append(row)\n",
    "    \n",
    "    RESULTS[dim] = dimension_results"
   ]
  },
  {
   "cell_type": "markdown",
   "metadata": {},
   "source": [
    "## Analyze results"
   ]
  },
  {
   "cell_type": "code",
   "execution_count": null,
   "metadata": {},
   "outputs": [],
   "source": [
    "for dim in RESULTS:\n",
    "    print(f\"\\nResults for {dim} dimensions:\\n\")\n",
    "    for i, dim_results in enumerate(RESULTS[dim]):\n",
    "        res = hp.rank_array(dim)\n",
    "        print(f\"\\n{functions[i]._custom_name}\\t\\t {hp.print_ranked_array(res)}\")\n",
    "\n",
    "    print(\"\\n\\n\")"
   ]
  }
 ],
 "metadata": {
  "kernelspec": {
   "display_name": "Python 3",
   "language": "python",
   "name": "python3"
  },
  "language_info": {
   "codemirror_mode": {
    "name": "ipython",
    "version": 3
   },
   "file_extension": ".py",
   "mimetype": "text/x-python",
   "name": "python",
   "nbconvert_exporter": "python",
   "pygments_lexer": "ipython3",
   "version": "3.11.0"
  }
 },
 "nbformat": 4,
 "nbformat_minor": 2
}
