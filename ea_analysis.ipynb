{
 "cells": [
  {
   "cell_type": "markdown",
   "metadata": {},
   "source": [
    "# Evolutionary algorithms analysis\n",
    "\n"
   ]
  },
  {
   "cell_type": "code",
   "execution_count": 1,
   "metadata": {},
   "outputs": [],
   "source": [
    "# Evo algorithms setup\n",
    "\n",
    "# Imports\n",
    "import source.visualization as vis\n",
    "import source.evolutionary_algorithms as ea\n",
    "import source.benchmark_functions as bf\n",
    "import numpy as np\n",
    "import source.helpers as hp\n",
    "import importlib\n",
    "import inspect\n",
    "import sys\n",
    "import os\n",
    "\n",
    "# Load benchmark functions\n",
    "module_path = os.path.abspath(os.path.join('./source'))\n",
    "sys.path.append(module_path)\n",
    "benchmarks = importlib.import_module('benchmark_functions')\n",
    "functions = [obj for _, obj in inspect.getmembers(benchmarks) if inspect.isfunction(obj)]\n",
    "\n",
    "# Hyperparameters\n",
    "DIMENSIONS = [2] #, 10, 30]\n",
    "\n",
    "lower_bound = -100.0\n",
    "upper_bound = 100.0\n",
    "\n",
    "POPULATION_SIZES = [10, 20, 50]\n",
    "FUNCTION_EVALUATIONS = 2000\n",
    "RESULTS = dict()\n",
    "REPEATS = 30"
   ]
  },
  {
   "cell_type": "markdown",
   "metadata": {},
   "source": [
    "## Running ea\n",
    "\n",
    "Run ea for benchmark functions and write results to global variables.\n"
   ]
  },
  {
   "cell_type": "code",
   "execution_count": 2,
   "metadata": {},
   "outputs": [
    {
     "name": "stdout",
     "output_type": "stream",
     "text": [
      "Loaded results from file\n"
     ]
    }
   ],
   "source": [
    "USE_PERSISTENT_DATA = True\n",
    "FILENAME = \"results/partial_run.json\"\n",
    "\n",
    "if USE_PERSISTENT_DATA:\n",
    "    RESULTS = hp.load_results(FILENAME)\n",
    "    print(\"Loaded results from file\")\n",
    "else:\n",
    "    for i, dim in enumerate(DIMENSIONS):\n",
    "        BOUNDS = np.array([[lower_bound, upper_bound]] * DIMENSIONS[i])\n",
    "        pop_size = POPULATION_SIZES[i]\n",
    "        evaluations = dim * FUNCTION_EVALUATIONS\n",
    "        dimension_results = []\n",
    "        print(f\"Calculating dimension {dim} - \", end=\"\")\n",
    "        counter = 0\n",
    "\n",
    "        for function in functions:\n",
    "            runs = []\n",
    "            counter += 1\n",
    "            \n",
    "            for _ in range(REPEATS):\n",
    "                row = [0, 0, 0, 0, 0]\n",
    "                row[0] = ea.differential_evolution(function, BOUNDS, pop_size, max_evaluations=evaluations, F=0.8, strategy=\"rand/1/bin\")[1]\n",
    "                row[1] = ea.differential_evolution(function, BOUNDS, pop_size, max_evaluations=evaluations, F=0.5, strategy=\"best/1/bin\")[1]\n",
    "                row[2] = ea.particle_swarm_optimization(function, BOUNDS, pop_size, max_evaluations=evaluations)[1]\n",
    "                row[3] = ea.soma_ato(function, BOUNDS, pop_size, max_evaluations=evaluations)[1]\n",
    "                row[4] = ea.soma_ata(function, BOUNDS, pop_size, max_evaluations=evaluations)[1]\n",
    "                runs.append(row)\n",
    "\n",
    "            print(\"#\", end=\"\")\n",
    "            if counter % 5 == 0:\n",
    "                print(\"|\", end=\"\")\n",
    "\n",
    "            dimension_results.append(runs)\n",
    "        \n",
    "        RESULTS[dim] = dimension_results\n",
    "        print(\"\")\n",
    "        \n",
    "    hp.save_results(RESULTS, FILENAME)\n"
   ]
  },
  {
   "cell_type": "markdown",
   "metadata": {},
   "source": [
    "## Analyze results"
   ]
  },
  {
   "cell_type": "code",
   "execution_count": 8,
   "metadata": {},
   "outputs": [
    {
     "name": "stdout",
     "output_type": "stream",
     "text": [
      "\n",
      "Results for 2 dimensions:\n",
      "\n",
      "----------------------------------------------------------------------------------------------------------------------------------------\n",
      "| Function/Rank Avg.  |     DE Rand 1     |     DE Best 1     |        PSO        |  SOMA all-to-one  |  SOMA all-to-all  | Avg. Diff. |\n",
      "----------------------------------------------------------------------------------------------------------------------------------------\n",
      "| Ackley 1st          |       2.23        |       3.87        |       3.10        |       2.97        |       4.07        |    1.19    |\n",
      "| Ackley Altered      |       2.97        |       4.10        |       1.27        |       2.40        |       4.27        |    1.93    |\n",
      "| Alpine 1st function |       1.30        |       2.83        |       2.43        |       3.50        |       4.93        |    0.95    |\n",
      "| Alpine 2nd          |       2.13        |       3.23        |       2.67        |       2.17        |       4.80        |    0.94    |\n",
      "| Csendes             |       1.40        |       2.03        |       2.73        |       3.87        |       4.97        |    1.58    |\n",
      "| LLM - Customized 1  |       1.70        |       3.23        |       3.20        |       2.37        |       4.77        |    1.10    |\n",
      "| LLM - Customized 2  |       3.20        |       4.03        |       2.17        |       2.50        |       4.27        |    1.64    |\n",
      "| De Jong N1          |       1.33        |       2.37        |       2.50        |       3.83        |       4.97        |    1.34    |\n",
      "| Griewank            |       2.27        |       2.80        |       2.57        |       2.60        |       4.87        |    0.67    |\n",
      "| Levy                |       2.47        |       3.37        |       2.50        |       3.67        |       4.93        |    0.80    |\n",
      "| Michalewicz         |       2.40        |       3.30        |       1.60        |       3.13        |       4.57        |    0.93    |\n",
      "| Michalewicz Altered |       1.77        |       3.37        |       2.40        |       2.63        |       4.83        |    0.55    |\n",
      "| Twisted Valleys     |       1.50        |       2.77        |       2.30        |       3.83        |       5.00        |    1.07    |\n",
      "| Quartic             |       1.60        |       1.73        |       2.73        |       3.93        |       5.00        |    1.79    |\n",
      "| Rastrigin           |       1.97        |       3.33        |       2.87        |       2.97        |       4.93        |    0.53    |\n",
      "| Schwefel            |       3.30        |       2.90        |       2.87        |       2.90        |       3.90        |    1.60    |\n",
      "| Styblinski-Tang     |       2.23        |       3.27        |       2.77        |       3.57        |       4.73        |    0.65    |\n",
      "| Svanda 1st          |       2.23        |       3.90        |       2.30        |       2.10        |       4.50        |    1.25    |\n",
      "| Svanda 2nd          |       1.10        |       2.90        |       2.53        |       3.57        |       4.90        |    1.12    |\n",
      "| Svanda 3rd          |       1.50        |       3.53        |       2.97        |       2.77        |       4.40        |    0.95    |\n",
      "| Svanda 4th          |       1.93        |       3.47        |       1.77        |       3.60        |       4.93        |    0.93    |\n",
      "| Svanda 5th          |       1.70        |       3.60        |       2.57        |       2.40        |       4.73        |    0.87    |\n",
      "| Svanda 6th          |       2.13        |       3.23        |       2.13        |       2.97        |       4.93        |    0.39    |\n",
      "| LLM - Wavy Peaks    |       3.30        |       3.30        |       1.30        |       2.67        |       4.77        |    1.75    |\n",
      "| Zakharov            |       1.20        |       2.80        |       2.43        |       3.63        |       4.93        |    1.10    |\n",
      "----------------------------------------------------------------------------------------------------------------------------------------\n",
      "| Average             |       2.03        |       3.17        |       2.43        |       3.06        |       4.72        |    1.10    |\n",
      "----------------------------------------------------------------------------------------------------------------------------------------\n",
      "\n",
      "Friedman test:\n",
      "Chi-square:        8.14415\n",
      "P-value:           0.998937\n",
      "\n",
      "\n",
      "\n"
     ]
    }
   ],
   "source": [
    "for dim in RESULTS:\n",
    "    print(f\"\\nResults for {dim} dimensions:\\n\")\n",
    "    ranking_table = []\n",
    "    hp.table_header()\n",
    "    result_dict = dict()\n",
    "    for i, fun in enumerate(RESULTS[dim]):\n",
    "        res = np.zeros(5)\n",
    "        for run in fun:\n",
    "            res += hp.rank_array(run)\n",
    "        res /= REPEATS \n",
    "        result_dict[functions[i]._custom_name] = res\n",
    "        ranking_table.append(res)\n",
    "\n",
    "    average_ranks = np.mean(ranking_table, axis=0)\n",
    "    avg_distance = 0\n",
    "    \n",
    "    for pair in result_dict:\n",
    "        result_rank = result_dict[pair]\n",
    "        distance = hp.euclidean_distance(result_rank, average_ranks)\n",
    "        avg_distance += distance\n",
    "        hp.table_row(pair, result_rank, distance)\n",
    "\n",
    "    avg_distance /= len(result_dict)\n",
    "    \n",
    "    hp.table_footer(average_ranks, avg_distance)\n",
    "    chi, p = hp.friedman_test(ranking_table)\n",
    "    print(\"\\nFriedman test:\")\n",
    "    print(\"Chi-square: {:>14.6}\\nP-value: {:>18.6}\".format(chi, p))\n",
    "\n",
    "    print(\"\\n\\n\")"
   ]
  }
 ],
 "metadata": {
  "kernelspec": {
   "display_name": "Python 3",
   "language": "python",
   "name": "python3"
  },
  "language_info": {
   "codemirror_mode": {
    "name": "ipython",
    "version": 3
   },
   "file_extension": ".py",
   "mimetype": "text/x-python",
   "name": "python",
   "nbconvert_exporter": "python",
   "pygments_lexer": "ipython3",
   "version": "3.11.0"
  }
 },
 "nbformat": 4,
 "nbformat_minor": 2
}
